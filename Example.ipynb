{
 "cells": [
  {
   "cell_type": "code",
   "execution_count": 1,
   "metadata": {},
   "outputs": [],
   "source": [
    "%matplotlib inline\n",
    "%load_ext autoreload\n",
    "%autoreload 2\n",
    "\n",
    "import numpy as np\n",
    "from GRDECL2VTK import * #GRDECL_Reader,GRID2VTU,getIJK"
   ]
  },
  {
   "cell_type": "code",
   "execution_count": 2,
   "metadata": {
    "collapsed": true
   },
   "outputs": [],
   "source": [
    "Grid1=GRDECL_Viewer(filename='./Example/HW1.GRDECL',nx=15,ny=8,nz=1)"
   ]
  },
  {
   "cell_type": "code",
   "execution_count": 4,
   "metadata": {},
   "outputs": [],
   "source": [
    "Grid1.calc_Trans()"
   ]
  },
  {
   "cell_type": "code",
   "execution_count": 5,
   "metadata": {},
   "outputs": [
    {
     "name": "stdout",
     "output_type": "stream",
     "text": [
      "\n",
      "--------Output----------\n",
      "Dimension(NX,NY,NZ): (15 X 8 X 1)\n",
      "Number of nodes: 960\n",
      "Number of GB: 120\n",
      "./Example/HW1_Perm_Poro.vtk successfully genetrated, pelase use Paraview to open it!\n",
      "\n",
      "--------Output----------\n",
      "Dimension(NX,NY,NZ): (15 X 8 X 1)\n",
      "Number of nodes: 960\n",
      "Number of GB: 120\n",
      "./Example/HW1_Trans.vtk successfully genetrated, pelase use Paraview to open it!\n",
      "\n",
      "--------Output----------\n",
      "Dimension(NX,NY,NZ): (15 X 8 X 1)\n",
      "Number of nodes: 960\n",
      "Number of GB: 120\n",
      "./Example/HW1_Faults.vtk successfully genetrated, pelase use Paraview to open it!\n"
     ]
    }
   ],
   "source": [
    "Grid1.write_VTU(filename='./Example/HW1_Perm_Poro',mode=0)\n",
    "Grid1.write_VTU(filename='./Example/HW1_Trans',mode=1)\n",
    "Grid1.write_VTU(filename='./Example/HW1_Faults',mode=2)"
   ]
  },
  {
   "cell_type": "code",
   "execution_count": 22,
   "metadata": {
    "collapsed": true
   },
   "outputs": [],
   "source": [
    "def Trans_Calculator(A1,k1,dx1,A2,k2,dx2):\n",
    "    return 2*1.127e-3*A1*k1*A2*k2/(A1*k1*dx2+A2*k2*dx1)"
   ]
  },
  {
   "cell_type": "code",
   "execution_count": 24,
   "metadata": {},
   "outputs": [
    {
     "data": {
      "text/plain": [
       "14.263669607693686"
      ]
     },
     "execution_count": 24,
     "metadata": {},
     "output_type": "execute_result"
    }
   ],
   "source": [
    "A1=34*529.41\n",
    "A2=34*529.41\n",
    "k1=278\n",
    "k2=280\n",
    "dx1=323.53\n",
    "dx2=470.58\n",
    "Trans_Calculator(A1,k1,dx1,A2,k2,dx2)"
   ]
  },
  {
   "cell_type": "code",
   "execution_count": null,
   "metadata": {
    "collapsed": true
   },
   "outputs": [],
   "source": []
  }
 ],
 "metadata": {
  "kernelspec": {
   "display_name": "Python 3",
   "language": "python",
   "name": "python3"
  },
  "language_info": {
   "codemirror_mode": {
    "name": "ipython",
    "version": 3
   },
   "file_extension": ".py",
   "mimetype": "text/x-python",
   "name": "python",
   "nbconvert_exporter": "python",
   "pygments_lexer": "ipython3",
   "version": "3.6.1"
  }
 },
 "nbformat": 4,
 "nbformat_minor": 2
}
