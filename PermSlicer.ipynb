{
 "cells": [
  {
   "cell_type": "code",
   "execution_count": 1,
   "metadata": {},
   "outputs": [],
   "source": [
    "%matplotlib inline\n",
    "%load_ext autoreload\n",
    "%autoreload 2\n",
    "\n",
    "import numpy as np\n",
    "from GRDECL2VTK import * #GRDECL_Reader,GRID2VTU,getIJK"
   ]
  },
  {
   "cell_type": "markdown",
   "metadata": {},
   "source": [
    "### Grid Information\n",
    "* Dimensions: 1200 x 2200 x 170 (ft)\n",
    "* Cell size: cell size is 20 x 10 x 2 ft\n",
    "* NX,NY,NZ: 60 x 220 x 85\n",
    "\n",
    "\n",
    "```C\n",
    "//Data Reading loop\n",
    "for (k = 1; k <= NZ; k++)\n",
    "\t\tfor (j = 1; j <= NY; j++)\n",
    "\t\t\tfor (i = 1; i <= NX; i++) {\n",
    "\t\t\t\tijk = getIJK_Flow(i, j, k);\n",
    "\t\t\t\tfscanf_s(fileReader, \"%lf\", &receiverX[ijk]);\n",
    "\t\t\t\t//printf(\"(%d,%d,%d)%lf\\n\",i,j,k,receiverX[ijk]);\n",
    "              }\n",
    "```"
   ]
  },
  {
   "cell_type": "code",
   "execution_count": 2,
   "metadata": {},
   "outputs": [],
   "source": [
    "#Import Mesh from SeniorDesign\n",
    "Grid1=GRDECL_Viewer(filename='./Example/SPE10B.GRDECL',nx=60,ny=220,nz=85)"
   ]
  },
  {
   "cell_type": "code",
   "execution_count": 3,
   "metadata": {},
   "outputs": [
    {
     "name": "stdout",
     "output_type": "stream",
     "text": [
      "Dimension(NX,NY,NZ): (30 X 110 X 40)\n",
      "NumofGBs: 132000\n"
     ]
    }
   ],
   "source": [
    "SubsetGrid=Grid1.field_cutter(nx_range=(1,30),ny_range=(1,110),nz_range=(1,40))"
   ]
  },
  {
   "cell_type": "code",
   "execution_count": 4,
   "metadata": {},
   "outputs": [
    {
     "name": "stdout",
     "output_type": "stream",
     "text": [
      "Dimension(NX,NY,NZ): (30 X 110 X 40) N=132000\n",
      "./Example/SPE10B_permx.txt successfully genetrated!\n",
      "./Example/SPE10B_permy.txt successfully genetrated!\n",
      "./Example/SPE10B_permz.txt successfully genetrated!\n",
      "./Example/SPE10B_poro.txt successfully genetrated!\n"
     ]
    }
   ],
   "source": [
    "SubsetGrid.write_Ascii(\"./Example/SPE10B\")"
   ]
  },
  {
   "cell_type": "code",
   "execution_count": 17,
   "metadata": {},
   "outputs": [
    {
     "name": "stdout",
     "output_type": "stream",
     "text": [
      "\n",
      "--------Output----------\n",
      "Dimension(NX,NY,NZ): (30 X 110 X 40)\n",
      "Number of nodes: 1056000\n",
      "Number of GB: 132000\n",
      "./Example/SPE10B_PermPoro_Subset.vtk successfully genetrated, pelase use Paraview to open it!\n"
     ]
    }
   ],
   "source": [
    "SubsetGrid.write_VTU(filename='./Example/SPE10B_PermPoro_Subset')"
   ]
  },
  {
   "cell_type": "code",
   "execution_count": null,
   "metadata": {},
   "outputs": [],
   "source": []
  }
 ],
 "metadata": {
  "kernelspec": {
   "display_name": "Python 3",
   "language": "python",
   "name": "python3"
  },
  "language_info": {
   "codemirror_mode": {
    "name": "ipython",
    "version": 3
   },
   "file_extension": ".py",
   "mimetype": "text/x-python",
   "name": "python",
   "nbconvert_exporter": "python",
   "pygments_lexer": "ipython3",
   "version": "3.6.5"
  }
 },
 "nbformat": 4,
 "nbformat_minor": 2
}
