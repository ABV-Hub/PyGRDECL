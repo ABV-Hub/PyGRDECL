{
 "cells": [
  {
   "cell_type": "code",
   "execution_count": 1,
   "metadata": {},
   "outputs": [],
   "source": [
    "%matplotlib inline\n",
    "%load_ext autoreload\n",
    "%autoreload 2\n",
    "\n",
    "from GRDECL2VTK import *"
   ]
  },
  {
   "cell_type": "markdown",
   "metadata": {},
   "source": [
    "### Model Builder"
   ]
  },
  {
   "cell_type": "code",
   "execution_count": 8,
   "metadata": {},
   "outputs": [
    {
     "name": "stdout",
     "output_type": "stream",
     "text": [
      "     Grid Type=Cartesian Grid\n",
      "     Grid Dimension(NX,NY,NZ): (60 x 1 x 60)\n",
      "     NumOfGrids=3600\n",
      "     New variable [SW_NPSL] created with a value of 200.000000!\n",
      "[Geometry] Converting GRDECL to Paraview Hexahedron mesh data....\n",
      "     NumOfPoints 28800\n",
      "     NumOfCells 3600\n",
      "     .....Done!\n",
      "[Output] Writing \"Results\\HomoCase.vtu\" Paraview file....Done!\n",
      "NPSL file [Results\\HomoCase_permx.txt] successfully genetrated, pelase use NPSL to load it!\n",
      "NPSL file [Results\\HomoCase_permy.txt] successfully genetrated, pelase use NPSL to load it!\n",
      "NPSL file [Results\\HomoCase_permz.txt] successfully genetrated, pelase use NPSL to load it!\n",
      "NPSL file [Results\\HomoCase_poro.txt] successfully genetrated, pelase use NPSL to load it!\n",
      "NPSL file [Results\\HomoCase_sw.txt] successfully genetrated, pelase use NPSL to load it!\n"
     ]
    }
   ],
   "source": [
    "Model=GeologyModel()\n",
    "Model.fname='HomoCase'\n",
    "Model.buildCartGrid(physDims=[600.0,10.0,75.0],gridDims=[60,1,60])\n",
    "\n",
    "#Initial sw field for NPSL\n",
    "Model.CreateCellData(varname=\"SW_NPSL\",val=200)\n",
    "\n",
    "#Setup initial permeability field\n",
    "Model.UpdateCellData(varname=\"PERMX\",val=200)\n",
    "Model.UpdateCellData(varname=\"PERMY\",val=200)\n",
    "Model.UpdateCellData(varname=\"PERMZ\",val=10)\n",
    "\n",
    "Model.UpdateCellData(varname=\"PERMX\",val=500,nz_range=(1,20))\n",
    "Model.UpdateCellData(varname=\"PERMX\",val=10,nz_range=(21,40))\n",
    "Model.UpdateCellData(varname=\"PERMX\",val=200,nz_range=(41,60))\n",
    "\n",
    "#Write to file for visulizatoin\n",
    "Model.GRDECL2VTK()\n",
    "Model.Write2VTU()\n",
    "Model.WriteNPSL()"
   ]
  },
  {
   "cell_type": "markdown",
   "metadata": {},
   "source": [
    "### Create a initial water saturation field"
   ]
  },
  {
   "cell_type": "code",
   "execution_count": 11,
   "metadata": {},
   "outputs": [
    {
     "name": "stdout",
     "output_type": "stream",
     "text": [
      "[Geometry] Converting GRDECL to Paraview Hexahedron mesh data....\n",
      "     NumOfPoints 28800\n",
      "     NumOfCells 3600\n",
      "     .....Done!\n",
      "[Output] Writing \"Results\\HomoCase.vtu\" Paraview file....Done!\n",
      "NPSL file [Results\\HomoCase_permx.txt] successfully genetrated, pelase use NPSL to load it!\n",
      "NPSL file [Results\\HomoCase_permy.txt] successfully genetrated, pelase use NPSL to load it!\n",
      "NPSL file [Results\\HomoCase_permz.txt] successfully genetrated, pelase use NPSL to load it!\n",
      "NPSL file [Results\\HomoCase_poro.txt] successfully genetrated, pelase use NPSL to load it!\n",
      "NPSL file [Results\\HomoCase_sw.txt] successfully genetrated, pelase use NPSL to load it!\n"
     ]
    }
   ],
   "source": [
    "#Setup initial water saturaion field\n",
    "Model.UpdateCellData(varname=\"SW_NPSL\",val=1,nz_range=(1,20))\n",
    "Model.UpdateCellData(varname=\"SW_NPSL\",val=0,nz_range=(21,40))\n",
    "Model.UpdateCellData(varname=\"SW_NPSL\",val=1,nz_range=(41,60))\n",
    "\n",
    "#Write to file for visulization\n",
    "Model.GRDECL2VTK()\n",
    "Model.Write2VTU()\n",
    "Model.WriteNPSL()"
   ]
  },
  {
   "cell_type": "code",
   "execution_count": null,
   "metadata": {},
   "outputs": [],
   "source": [
    "#Update any region by given nx_range,ny_range and nz_range\n",
    "#Model.UpdateCellData(varname=\"PERMX\",val=150,nx_range=(1,60),nz_range=(1,5))\n",
    "#Model.UpdateCellData(varname=\"PERMX\",val=100,nx_range=(1,30),nz_range=(6,10))\n",
    "#Model.UpdateCellData(varname=\"PERMX\",val=10,nx_range=(1,40),nz_range=(11,15))"
   ]
  }
 ],
 "metadata": {
  "kernelspec": {
   "display_name": "Python 3",
   "language": "python",
   "name": "python3"
  },
  "language_info": {
   "codemirror_mode": {
    "name": "ipython",
    "version": 3
   },
   "file_extension": ".py",
   "mimetype": "text/x-python",
   "name": "python",
   "nbconvert_exporter": "python",
   "pygments_lexer": "ipython3",
   "version": "3.6.8"
  }
 },
 "nbformat": 4,
 "nbformat_minor": 2
}
