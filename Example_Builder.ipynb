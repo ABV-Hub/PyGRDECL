{
 "cells": [
  {
   "cell_type": "code",
   "execution_count": 1,
   "metadata": {},
   "outputs": [],
   "source": [
    "%matplotlib inline\n",
    "%load_ext autoreload\n",
    "%autoreload 2\n",
    "\n",
    "from GRDECL2VTK import *"
   ]
  },
  {
   "cell_type": "code",
   "execution_count": 12,
   "metadata": {},
   "outputs": [
    {
     "name": "stdout",
     "output_type": "stream",
     "text": [
      "     Grid Type=Cartesian Grid\n",
      "     Grid Dimension(NX,NY,NZ): (50 x 50 x 15)\n",
      "     NumOfGrids=37500\n",
      "[Geometry] Converting GRDECL to Paraview Hexahedron mesh data....\n",
      "     NumOfPoints 300000\n",
      "     NumOfCells 37500\n",
      "     .....Done!\n",
      "[Output] Writing \"Results\\Cart3D.vtu\" Paraview file....Done!\n",
      "NPSL file [Results\\Cart3D_permx.txt] successfully genetrated, pelase use NPSL to load it!\n",
      "NPSL file [Results\\Cart3D_permy.txt] successfully genetrated, pelase use NPSL to load it!\n",
      "NPSL file [Results\\Cart3D_permz.txt] successfully genetrated, pelase use NPSL to load it!\n",
      "NPSL file [Results\\Cart3D_poro.txt] successfully genetrated, pelase use NPSL to load it!\n"
     ]
    }
   ],
   "source": [
    "#Model=GeologyModel(filename='./ExampleData/Cart2D.DATA')\n",
    "#Model=GeologyModel(filename='./ExampleData/Cart2D_Fault.GRDECL')\n",
    "Model=GeologyModel()\n",
    "Model.fname='Cart3D'\n",
    "Model.buildCartGrid(physDims=[50.0,50.0,10.0],gridDims=[50,50,15])\n",
    "\n",
    "Model.UpdateCellData(varname=\"PERMX\",val=200)\n",
    "Model.UpdateCellData(varname=\"PERMY\",val=200)\n",
    "Model.UpdateCellData(varname=\"PERMZ\",val=10)\n",
    "\n",
    "Model.UpdateCellData(varname=\"PERMX\",val=50,nx_range=(10,15),ny_range=(10,15))\n",
    "\n",
    "\n",
    "Model.GRDECL2VTK()\n",
    "Model.Write2VTU()\n",
    "Model.WriteNPSL()"
   ]
  },
  {
   "cell_type": "code",
   "execution_count": 8,
   "metadata": {},
   "outputs": [
    {
     "data": {
      "text/plain": [
       "array([1., 1., 1., 1., 6., 6., 6., 6.])"
      ]
     },
     "execution_count": 8,
     "metadata": {},
     "output_type": "execute_result"
    }
   ],
   "source": [
    "Model.GRDECL_Data.TOPS"
   ]
  },
  {
   "cell_type": "code",
   "execution_count": 28,
   "metadata": {},
   "outputs": [],
   "source": [
    "a,b,c=[1,2,3]\n",
    "a,b,c=np.zeros((3,10))"
   ]
  },
  {
   "cell_type": "code",
   "execution_count": 31,
   "metadata": {},
   "outputs": [
    {
     "data": {
      "text/plain": [
       "array([1., 1., 1.])"
      ]
     },
     "execution_count": 31,
     "metadata": {},
     "output_type": "execute_result"
    }
   ],
   "source": [
    "np.ones(3)"
   ]
  }
 ],
 "metadata": {
  "kernelspec": {
   "display_name": "Python 3",
   "language": "python",
   "name": "python3"
  },
  "language_info": {
   "codemirror_mode": {
    "name": "ipython",
    "version": 3
   },
   "file_extension": ".py",
   "mimetype": "text/x-python",
   "name": "python",
   "nbconvert_exporter": "python",
   "pygments_lexer": "ipython3",
   "version": "3.6.8"
  }
 },
 "nbformat": 4,
 "nbformat_minor": 2
}
