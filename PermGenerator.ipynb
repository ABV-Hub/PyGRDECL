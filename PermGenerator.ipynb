{
 "cells": [
  {
   "cell_type": "code",
   "execution_count": 1,
   "metadata": {},
   "outputs": [],
   "source": [
    "%matplotlib inline\n",
    "%load_ext autoreload\n",
    "%autoreload 2\n",
    "\n",
    "import numpy as np\n",
    "from GRDECL2VTK import * #GRDECL_Reader,GRID2VTU,getIJK"
   ]
  },
  {
   "cell_type": "markdown",
   "metadata": {},
   "source": [
    "### Grid 1 Information\n",
    "* Dimensions: 600x600x75 \n",
    "* NX,NY,NZ:30x60x5"
   ]
  },
  {
   "cell_type": "code",
   "execution_count": 2,
   "metadata": {
    "collapsed": true
   },
   "outputs": [],
   "source": [
    "#Import Mesh from SeniorDesign\n",
    "Grid1=GRDECL_Viewer(filename='./Example/SeniorDesign.GRDECL',nx=30,ny=60,nz=5)"
   ]
  },
  {
   "cell_type": "markdown",
   "metadata": {},
   "source": [
    "### Customize permeability field\n",
    "* Dimensions: 600x600x75 \n",
    "* NX,NY,NZ:30x60x5"
   ]
  },
  {
   "cell_type": "code",
   "execution_count": 3,
   "metadata": {},
   "outputs": [
    {
     "name": "stdout",
     "output_type": "stream",
     "text": [
      "Help on method field_update in module GRDECL2VTK:\n",
      "\n",
      "field_update(var='PERMX', val=100.0, nx_range=(0, -1), ny_range=(0, -1), nz_range=(0, -1)) method of GRDECL2VTK.GRDECL_Viewer instance\n",
      "    Update/modify Permeability/Porosity field with given grid block range\n",
      "    \n",
      "    Arguments\n",
      "    ---------\n",
      "    var         -- The varable name you want to update, e.g PERMX, PERMY or PERMZ\n",
      "    val         -- The varable value you want to update\n",
      "    nx_range    -- The specifc grid range in x for updating \n",
      "    nx_range    -- The specifc grid range in y for updating\n",
      "    nz_range    -- The specifc grid range in z for updating\n",
      "    \n",
      "    Author:Bin Wang(binwang.0213@gmail.com)\n",
      "    Date: Feb. 2018\n",
      "\n"
     ]
    }
   ],
   "source": [
    "help(Grid1.field_update)"
   ]
  },
  {
   "cell_type": "markdown",
   "metadata": {},
   "source": [
    "### Example 1\n",
    "<img src=\"img/SeniorDesign1.png\" style=\"width: 400px;\"/>"
   ]
  },
  {
   "cell_type": "code",
   "execution_count": 4,
   "metadata": {
    "collapsed": true
   },
   "outputs": [],
   "source": [
    "#Set PermZ for all gridblock as 50\n",
    "Grid1.field_update(var=\"PERMZ\",val=50)\n",
    "\n",
    "#Set PermX for all gridblock as 200\n",
    "Grid1.field_update(var=\"PERMX\",val=200)\n",
    "Grid1.field_update(var=\"PERMY\",val=200)\n",
    "\n",
    "#Set PermX and Y for layer 1,3,5 as 1000\n",
    "Grid1.field_update(var=\"PERMX\",val=1000,nz_range=(0,0))\n",
    "Grid1.field_update(var=\"PERMY\",val=1000,nz_range=(0,0))\n",
    "Grid1.field_update(var=\"PERMX\",val=1000,nz_range=(2,2))\n",
    "Grid1.field_update(var=\"PERMY\",val=1000,nz_range=(2,2))\n",
    "Grid1.field_update(var=\"PERMX\",val=1000,nz_range=(4,4))\n",
    "Grid1.field_update(var=\"PERMY\",val=1000,nz_range=(4,4))"
   ]
  },
  {
   "cell_type": "markdown",
   "metadata": {},
   "source": [
    "### Example 2\n",
    "<img src=\"img/SeniorDesign2.png\" style=\"width: 400px;\"/>"
   ]
  },
  {
   "cell_type": "code",
   "execution_count": 5,
   "metadata": {
    "collapsed": true
   },
   "outputs": [],
   "source": [
    "#Set PermZ for all gridblock as 50\n",
    "Grid1.field_update(var=\"PERMZ\",val=50)\n",
    "\n",
    "#Set PermX for all gridblock as 200\n",
    "Grid1.field_update(var=\"PERMX\",val=200)\n",
    "Grid1.field_update(var=\"PERMY\",val=200)\n",
    "\n",
    "#Set PermX and Y for channel\n",
    "Grid1.field_update(var=\"PERMX\",val=1000,nx_range=(5,5))\n",
    "Grid1.field_update(var=\"PERMY\",val=1000,nx_range=(5,5))\n",
    "Grid1.field_update(var=\"PERMX\",val=1000,nx_range=(24,24))\n",
    "Grid1.field_update(var=\"PERMY\",val=1000,nx_range=(24,24))\n",
    "Grid1.field_update(var=\"PERMX\",val=1000,ny_range=(5,10))\n",
    "Grid1.field_update(var=\"PERMY\",val=1000,ny_range=(5,10))\n",
    "Grid1.field_update(var=\"PERMX\",val=1000,ny_range=(40,45))\n",
    "Grid1.field_update(var=\"PERMY\",val=1000,ny_range=(40,45))"
   ]
  },
  {
   "cell_type": "code",
   "execution_count": 6,
   "metadata": {},
   "outputs": [
    {
     "name": "stdout",
     "output_type": "stream",
     "text": [
      "\n",
      "--------Output----------\n",
      "Dimension(NX,NY,NZ): (30 X 60 X 5)\n",
      "Number of nodes: 72000\n",
      "Number of GB: 9000\n",
      "./Example/HW1_Perm_Poro.vtk successfully genetrated, pelase use Paraview to open it!\n"
     ]
    }
   ],
   "source": [
    "Grid1.write_NPSL(filehead=\"./Example/HomoCase\")"
   ]
  },
  {
   "cell_type": "code",
   "execution_count": null,
   "metadata": {
    "collapsed": true
   },
   "outputs": [],
   "source": []
  }
 ],
 "metadata": {
  "kernelspec": {
   "display_name": "Python 3",
   "language": "python",
   "name": "python3"
  },
  "language_info": {
   "codemirror_mode": {
    "name": "ipython",
    "version": 3
   },
   "file_extension": ".py",
   "mimetype": "text/x-python",
   "name": "python",
   "nbconvert_exporter": "python",
   "pygments_lexer": "ipython3",
   "version": "3.6.3"
  }
 },
 "nbformat": 4,
 "nbformat_minor": 2
}
