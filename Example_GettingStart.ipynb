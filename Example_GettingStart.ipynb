{
 "cells": [
  {
   "cell_type": "code",
   "execution_count": 2,
   "metadata": {},
   "outputs": [],
   "source": [
    "%matplotlib inline\n",
    "%load_ext autoreload\n",
    "%autoreload 2\n",
    "\n",
    "from GRDECL2VTK import *"
   ]
  },
  {
   "cell_type": "markdown",
   "metadata": {},
   "source": [
    "### Exampel 1 - Load grid data with perm and porosity"
   ]
  },
  {
   "cell_type": "code",
   "execution_count": 2,
   "metadata": {},
   "outputs": [
    {
     "name": "stdout",
     "output_type": "stream",
     "text": [
      "[Input] Reading ECLIPSE/PETREL file \"./ExampleData/dome.grdecl\" ....\n",
      "     Grid Type=CornerPoint\n",
      "     Grid Dimension(NX,NY,NZ): (20 x 20 x 4)\n",
      "     NumOfGrids=1600\n",
      "     NumOfKeywords=11\n",
      "     Reading Keywords [SPECGRID]      [PORO]      [PERMX]      [PERMY]      [PERMZ] .....Done!\n",
      "[Geometry] Converting GRDECL to Paraview Hexahedron mesh data....\n",
      "     NumOfPoints 12800\n",
      "     NumOfCells 1600\n",
      "     .....Done!\n",
      "[Output] Writing \"Results\\dome.vtu\" Paraview file....Done!\n"
     ]
    }
   ],
   "source": [
    "#Model=GeologyModel(filename='./ExampleData/Simple3x3x1.grdecl')\n",
    "#Model=GeologyModel(filename='./ExampleData/Simple20x20x5.grdecl')\n",
    "#Model=GeologyModel(filename='./ExampleData/Simple20x20x5_Fault.grdecl')\n",
    "#Model=GeologyModel(filename='./ExampleData/Simple10x10x3_Flat_Fault.grdecl')\n",
    "#Model=GeologyModel(filename='./ExampleData/Simple10x10x3_FlatCross_Fault.grdecl')\n",
    "#Model=GeologyModel(filename='./ExampleData/40X48x1_3fatults.grdecl')\n",
    "#Model=GeologyModel(filename='./ExampleData/snarkgrid.grdecl')\n",
    "Model=GeologyModel(filename='./ExampleData/dome.grdecl')\n",
    "#Model=GeologyModel(filename='./ExampleData/pillar_36x48.grdecl')\n",
    "#Model=GeologyModel(filename='./ExampleData/Johansen.grdecl')\n",
    "#Model=GeologyModel(filename='./ExampleData/Norne.GRDECL')\n",
    "\n",
    "Model.GRDECL2VTK()\n",
    "Model.Write2VTU()"
   ]
  },
  {
   "cell_type": "code",
   "execution_count": null,
   "metadata": {},
   "outputs": [],
   "source": [
    "Model.decomposeModel()\n",
    "Model.Write2VTU()"
   ]
  },
  {
   "cell_type": "markdown",
   "metadata": {},
   "source": [
    "### Exampel 2 - Load grid data and adding any custom field"
   ]
  },
  {
   "cell_type": "code",
   "execution_count": 7,
   "metadata": {},
   "outputs": [
    {
     "name": "stdout",
     "output_type": "stream",
     "text": [
      "[Input] Reading ECLIPSE/PETREL file \"./ExampleData/dome.grdecl\" ....\n",
      "     Grid Type=CornerPoint\n",
      "     Grid Dimension(NX,NY,NZ): (20 x 20 x 4)\n",
      "     NumOfGrids=1600\n",
      "     NumOfKeywords=11\n",
      "     Reading Keywords [SPECGRID]      [PORO]      [PERMX]      [PERMY]      [PERMZ] .....Done!\n",
      "[Input] Reading ECLIPSE/PETREL file \"./ExampleData/dome_Temperature.txt\" ....\n",
      "     Reading Keywords [TEMP] \n",
      "     New variable [TEMP] loaded from file!\n",
      "[Geometry] Converting GRDECL to Paraview Hexahedron mesh data....\n",
      "     NumOfPoints 12800\n",
      "     NumOfCells 1600\n",
      "     .....Done!\n",
      "[Output] Writing \"Results\\dome.vtu\" Paraview file....Done!\n"
     ]
    }
   ],
   "source": [
    "Model=GeologyModel(filename='./ExampleData/dome.grdecl')\n",
    "\n",
    "TempData=Model.LoadCellData(varname=\"TEMP\",filename='./ExampleData/dome_Temperature.txt')\n",
    "Model.GRDECL2VTK()\n",
    "Model.Write2VTU()"
   ]
  },
  {
   "cell_type": "code",
   "execution_count": null,
   "metadata": {},
   "outputs": [],
   "source": []
  }
 ],
 "metadata": {
  "kernelspec": {
   "display_name": "Python 3",
   "language": "python",
   "name": "python3"
  },
  "language_info": {
   "codemirror_mode": {
    "name": "ipython",
    "version": 3
   },
   "file_extension": ".py",
   "mimetype": "text/x-python",
   "name": "python",
   "nbconvert_exporter": "python",
   "pygments_lexer": "ipython3",
   "version": "3.6.8"
  }
 },
 "nbformat": 4,
 "nbformat_minor": 2
}
